{
 "cells": [
  {
   "cell_type": "code",
   "execution_count": 6,
   "id": "17271357",
   "metadata": {},
   "outputs": [
    {
     "data": {
      "text/plain": [
       "[[x == (19/12), y == (83/12)]]"
      ]
     },
     "execution_count": 6,
     "metadata": {},
     "output_type": "execute_result"
    }
   ],
   "source": [
    "x, y = var('x, y')\n",
    "solve([x+y==17/2, x-y==-16/3], x, y)"
   ]
  },
  {
   "cell_type": "code",
   "execution_count": 7,
   "id": "f8bcfb89",
   "metadata": {},
   "outputs": [
    {
     "data": {
      "text/plain": [
       "[x == 7, x == -1, x == 1]"
      ]
     },
     "execution_count": 7,
     "metadata": {},
     "output_type": "execute_result"
    }
   ],
   "source": [
    "solve(x^3 - 7*x^2 - x + 7 == 0, x)"
   ]
  },
  {
   "cell_type": "code",
   "execution_count": 9,
   "id": "5295f221",
   "metadata": {},
   "outputs": [
    {
     "name": "stdout",
     "output_type": "stream",
     "text": [
      "#0: solve_rat_ineq("
     ]
    },
    {
     "data": {
      "text/plain": [
       "[[x == 10], [x == 4], [x < 4], [10 < x]]"
      ]
     },
     "execution_count": 9,
     "metadata": {},
     "output_type": "execute_result"
    },
    {
     "name": "stdout",
     "output_type": "stream",
     "text": [
      "ineq=abs(_SAGE_VAR_x-7) >= 3)\n"
     ]
    }
   ],
   "source": [
    "solve(abs(x-7)>=3,x)"
   ]
  },
  {
   "cell_type": "code",
   "execution_count": 17,
   "id": "cdba1e47",
   "metadata": {},
   "outputs": [
    {
     "ename": "IndentationError",
     "evalue": "unexpected indent (3010264021.py, line 3)",
     "output_type": "error",
     "traceback": [
      "\u001b[0;36m  Input \u001b[0;32mIn [17]\u001b[0;36m\u001b[0m\n\u001b[0;31m    find_root(h, -pi/Integer(2),Integer(0))\u001b[0m\n\u001b[0m    ^\u001b[0m\n\u001b[0;31mIndentationError\u001b[0m\u001b[0;31m:\u001b[0m unexpected indent\n"
     ]
    }
   ],
   "source": [
    "x = var('x')\n",
    "h = exp(x)-cos(x)\n",
    " find_root(h, -pi/2,0)\n",
    "\n"
   ]
  },
  {
   "cell_type": "code",
   "execution_count": 20,
   "id": "5d905f4a",
   "metadata": {},
   "outputs": [
    {
     "ename": "TypeError",
     "evalue": "find_root() missing 1 required positional argument: 'b'",
     "output_type": "error",
     "traceback": [
      "\u001b[0;31m---------------------------------------------------------------------------\u001b[0m",
      "\u001b[0;31mTypeError\u001b[0m                                 Traceback (most recent call last)",
      "Input \u001b[0;32mIn [20]\u001b[0m, in \u001b[0;36m<cell line: 3>\u001b[0;34m()\u001b[0m\n\u001b[1;32m      1\u001b[0m x \u001b[38;5;241m=\u001b[39m var(\u001b[38;5;124m'\u001b[39m\u001b[38;5;124mx\u001b[39m\u001b[38;5;124m'\u001b[39m)\n\u001b[1;32m      2\u001b[0m h \u001b[38;5;241m=\u001b[39m exp(x)\u001b[38;5;241m-\u001b[39mcos(x)\n\u001b[0;32m----> 3\u001b[0m \u001b[43mfind_root\u001b[49m\u001b[43m(\u001b[49m\u001b[43mh\u001b[49m\u001b[43m,\u001b[49m\u001b[43m \u001b[49m\u001b[38;5;241;43m-\u001b[39;49m\u001b[43mpi\u001b[49m\u001b[38;5;241;43m/\u001b[39;49m\u001b[43mRealNumber\u001b[49m\u001b[43m(\u001b[49m\u001b[38;5;124;43m'\u001b[39;49m\u001b[38;5;124;43m1.8\u001b[39;49m\u001b[38;5;124;43m'\u001b[39;49m\u001b[43m)\u001b[49m\u001b[43m)\u001b[49m\n",
      "File \u001b[0;32m/private/var/tmp/sage-9.7-current/local/var/lib/sage/venv-python3.10.5/lib/python3.10/site-packages/sage/misc/lazy_import.pyx:391\u001b[0m, in \u001b[0;36msage.misc.lazy_import.LazyImport.__call__ (build/cythonized/sage/misc/lazy_import.c:4397)\u001b[0;34m()\u001b[0m\n\u001b[1;32m    389\u001b[0m         True\n\u001b[1;32m    390\u001b[0m     \"\"\"\n\u001b[0;32m--> 391\u001b[0m     return self.get_object()(*args, **kwds)\n\u001b[1;32m    392\u001b[0m \n\u001b[1;32m    393\u001b[0m def __repr__(self):\n",
      "\u001b[0;31mTypeError\u001b[0m: find_root() missing 1 required positional argument: 'b'"
     ]
    }
   ],
   "source": [
    "x = var('x')\n",
    "h = exp(x)-cos(x)\n",
    "find_root(h, -pi/1.8)"
   ]
  },
  {
   "cell_type": "code",
   "execution_count": null,
   "id": "d5ae067c",
   "metadata": {},
   "outputs": [],
   "source": []
  }
 ],
 "metadata": {
  "kernelspec": {
   "display_name": "SageMath 9.7",
   "language": "sage",
   "name": "sagemath-9.7"
  },
  "language_info": {
   "codemirror_mode": {
    "name": "ipython",
    "version": 3
   },
   "file_extension": ".py",
   "mimetype": "text/x-python",
   "name": "python",
   "nbconvert_exporter": "python",
   "pygments_lexer": "ipython3",
   "version": "3.10.5"
  }
 },
 "nbformat": 4,
 "nbformat_minor": 5
}
